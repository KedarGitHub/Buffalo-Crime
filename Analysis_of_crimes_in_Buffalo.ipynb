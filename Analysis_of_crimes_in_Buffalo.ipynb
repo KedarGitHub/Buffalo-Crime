{
 "cells": [
  {
   "cell_type": "markdown",
   "metadata": {},
   "source": [
    "# Analysis of Crime in Buffalo\n",
    "\n",
    "* A project that strives to provide various analyses on the city’s crime-rate should greatly benefit the residents and UB students to deem areas and/or months as‘safe’ or ‘unsafe’. \n",
    "* The summary of this project should also assist the concerned departments in applying stricter laws to improve security."
   ]
  },
  {
   "cell_type": "code",
   "execution_count": 1,
   "metadata": {},
   "outputs": [],
   "source": [
    "# importing required libraries\n",
    "import pandas as pd\n",
    "import sqlite3\n",
    "from sqlite3 import Error\n",
    "import csv\n",
    "csv.field_size_limit(100000000)\n",
    "import matplotlib.pyplot as plt\n",
    "%matplotlib inline"
   ]
  },
  {
   "cell_type": "markdown",
   "metadata": {},
   "source": [
    "# Import and check info of dataset"
   ]
  },
  {
   "cell_type": "code",
   "execution_count": 2,
   "metadata": {},
   "outputs": [],
   "source": [
    "# import csv dataset into dataframe\n",
    "df_all = pd.read_csv(\"Crime_Incidents.csv\")"
   ]
  },
  {
   "cell_type": "code",
   "execution_count": 3,
   "metadata": {},
   "outputs": [
    {
     "name": "stdout",
     "output_type": "stream",
     "text": [
      "<class 'pandas.core.frame.DataFrame'>\n",
      "RangeIndex: 287308 entries, 0 to 287307\n",
      "Data columns (total 29 columns):\n",
      " #   Column                   Non-Null Count   Dtype  \n",
      "---  ------                   --------------   -----  \n",
      " 0   Case Number              287308 non-null  object \n",
      " 1   Incident Datetime        287303 non-null  object \n",
      " 2   Incident ID              0 non-null       float64\n",
      " 3   Incident Type Primary    287308 non-null  object \n",
      " 4   Incident Description     287308 non-null  object \n",
      " 5   Parent Incident Type     287308 non-null  object \n",
      " 6   Hour of Day              287308 non-null  int64  \n",
      " 7   Day of Week              287308 non-null  object \n",
      " 8   Address                  287269 non-null  object \n",
      " 9   City                     287308 non-null  object \n",
      " 10  State                    287308 non-null  object \n",
      " 11  Location                 282931 non-null  object \n",
      " 12  Latitude                 282931 non-null  float64\n",
      " 13  Longitude                282931 non-null  float64\n",
      " 14  Created At               287308 non-null  object \n",
      " 15  updated_at               0 non-null       float64\n",
      " 16  2010 Census Tract        285866 non-null  object \n",
      " 17  2010 Census Block Group  285866 non-null  object \n",
      " 18  2010 Census Block        285866 non-null  object \n",
      " 19  Census Tract             285866 non-null  object \n",
      " 20  Census Block             285866 non-null  object \n",
      " 21  Census Block Group       285866 non-null  object \n",
      " 22  Neighborhood             285866 non-null  object \n",
      " 23  Police District          285866 non-null  object \n",
      " 24  Council District         285866 non-null  object \n",
      " 25  TRACTCE20                286003 non-null  object \n",
      " 26  GEOID20_tract            286003 non-null  object \n",
      " 27  GEOID20_blockgroup       286003 non-null  object \n",
      " 28  GEOID20_block            286003 non-null  object \n",
      "dtypes: float64(4), int64(1), object(24)\n",
      "memory usage: 63.6+ MB\n"
     ]
    },
    {
     "data": {
      "text/plain": [
       "(287308, 29)"
      ]
     },
     "execution_count": 3,
     "metadata": {},
     "output_type": "execute_result"
    }
   ],
   "source": [
    "# checking data summary and size\n",
    "df_all.info()\n",
    "df_all.shape"
   ]
  },
  {
   "cell_type": "code",
   "execution_count": 4,
   "metadata": {},
   "outputs": [],
   "source": [
    "# Drop columns not needed for our analysis\n",
    "df = df_all.drop(['Incident ID','updated_at','2010 Census Tract ','2010 Census Block Group','2010 Census Block',\n",
    "            'Census Tract','Census Block','Census Block Group','TRACTCE20','GEOID20_tract','GEOID20_blockgroup',\n",
    "            'GEOID20_block'],axis=1)"
   ]
  },
  {
   "cell_type": "code",
   "execution_count": 5,
   "metadata": {},
   "outputs": [
    {
     "name": "stdout",
     "output_type": "stream",
     "text": [
      "<class 'pandas.core.frame.DataFrame'>\n",
      "RangeIndex: 287308 entries, 0 to 287307\n",
      "Data columns (total 17 columns):\n",
      " #   Column                 Non-Null Count   Dtype  \n",
      "---  ------                 --------------   -----  \n",
      " 0   Case Number            287308 non-null  object \n",
      " 1   Incident Datetime      287303 non-null  object \n",
      " 2   Incident Type Primary  287308 non-null  object \n",
      " 3   Incident Description   287308 non-null  object \n",
      " 4   Parent Incident Type   287308 non-null  object \n",
      " 5   Hour of Day            287308 non-null  int64  \n",
      " 6   Day of Week            287308 non-null  object \n",
      " 7   Address                287269 non-null  object \n",
      " 8   City                   287308 non-null  object \n",
      " 9   State                  287308 non-null  object \n",
      " 10  Location               282931 non-null  object \n",
      " 11  Latitude               282931 non-null  float64\n",
      " 12  Longitude              282931 non-null  float64\n",
      " 13  Created At             287308 non-null  object \n",
      " 14  Neighborhood           285866 non-null  object \n",
      " 15  Police District        285866 non-null  object \n",
      " 16  Council District       285866 non-null  object \n",
      "dtypes: float64(2), int64(1), object(14)\n",
      "memory usage: 37.3+ MB\n"
     ]
    }
   ],
   "source": [
    "df.info()"
   ]
  },
  {
   "cell_type": "code",
   "execution_count": 6,
   "metadata": {},
   "outputs": [],
   "source": [
    "# Dropping all Null rows\n",
    "df[df.isna().any(axis=1)]\n",
    "df = df.dropna(axis=0)\n",
    "\n",
    "# Dropping rows which has values \n",
    "df = df[df['Neighborhood'] != 'UNKNOWN']\n",
    "df = df[df['Police District'] != 'UNKNOWN']\n",
    "df = df[df['Council District'] != 'UNKNOWN']"
   ]
  },
  {
   "cell_type": "code",
   "execution_count": 7,
   "metadata": {},
   "outputs": [
    {
     "data": {
      "text/plain": [
       "(282316, 17)"
      ]
     },
     "execution_count": 7,
     "metadata": {},
     "output_type": "execute_result"
    }
   ],
   "source": [
    "# checking size of our dataset to be analyzed\n",
    "df.reset_index(drop = True, inplace = True)\n",
    "df.shape "
   ]
  },
  {
   "cell_type": "markdown",
   "metadata": {},
   "source": [
    "# Adding data to normalized.db"
   ]
  },
  {
   "cell_type": "code",
   "execution_count": 8,
   "metadata": {},
   "outputs": [],
   "source": [
    "# Function to create connection \n",
    "def create_connection(db_file, delete_db=False):\n",
    "    import os\n",
    "    if delete_db and os.path.exists(db_file):\n",
    "        os.remove(db_file)\n",
    "\n",
    "    conn = None\n",
    "    try:\n",
    "        conn = sqlite3.connect(db_file)\n",
    "        conn.execute(\"PRAGMA foreign_keys = 1\")\n",
    "    except Error as e:\n",
    "        print(e)\n",
    "\n",
    "    return conn\n",
    "\n",
    "# Function to create table in db\n",
    "def create_table(conn, create_table_sql, drop_table_name=None):\n",
    "    \n",
    "    if drop_table_name: \n",
    "        try:\n",
    "            c = conn.cursor()\n",
    "            c.execute(\"\"\"DROP TABLE IF EXISTS %s\"\"\" % (drop_table_name))\n",
    "        except Error as e:\n",
    "            print(e)\n",
    "    \n",
    "    try:\n",
    "        c = conn.cursor()\n",
    "        c.execute(create_table_sql)\n",
    "    except Error as e:\n",
    "        print(e)\n",
    "        \n",
    "# Function to execute sql statements    \n",
    "def execute_sql_statement(sql_statement, conn):\n",
    "    cur = conn.cursor()\n",
    "    cur.execute(sql_statement)\n",
    "    rows = cur.fetchall()\n",
    "    return rows\n",
    "\n",
    "# Function to insert values into table\n",
    "def insert(sql,values,conn):\n",
    "    cur = conn.cursor()\n",
    "    cur.executemany(sql,values)"
   ]
  },
  {
   "cell_type": "code",
   "execution_count": 9,
   "metadata": {},
   "outputs": [
    {
     "name": "stdout",
     "output_type": "stream",
     "text": [
      "FOREIGN KEY constraint failed\n",
      "table [Neighborhood] already exists\n",
      "     NeighborhoodID    NeighborhoodName\n",
      "0                 1           Allentown\n",
      "1                 2          Black Rock\n",
      "2                 3   Broadway Fillmore\n",
      "3                 4             Central\n",
      "4                 5        Central Park\n",
      "..              ...                 ...\n",
      "100             101          South Park\n",
      "101             102  University Heights\n",
      "102             103     Upper West Side\n",
      "103             104         West Hertel\n",
      "104             105           West Side\n",
      "\n",
      "[105 rows x 2 columns]\n"
     ]
    }
   ],
   "source": [
    "# Function that creates and inserts values into neighborhood table\n",
    "def create_neighborhood(df_n,db_file):\n",
    "    df_n = sorted(list(df_n))\n",
    "    \n",
    "    create_sql = \"\"\"CREATE TABLE [Neighborhood] \n",
    "    ([NeighborhoodID] INTEGER PRIMARY KEY NOT NULL,\n",
    "    [NeighborhoodName] TEXT NOT NULL); \"\"\"\n",
    "    \n",
    "    sql_c = \"drop table Neighborhood;\"\n",
    "    sql_d = \"drop table Crime;\"\n",
    "    \n",
    "    conn = create_connection(db_file,)\n",
    "    create_table(conn,create_sql,\"Neighborhood\")\n",
    "    \n",
    "    insert_sql = \"INSERT INTO Neighborhood(NeighborhoodName) VALUES(?)\"\n",
    "    \n",
    "    with conn:\n",
    "        values = []\n",
    "        for i in df_n:\n",
    "            values.append((i,))\n",
    "        insert(insert_sql,values,conn)\n",
    "    sql_a = \"Select * from Neighborhood;\"  \n",
    "    df = pd.read_sql_query(sql_a,conn) \n",
    "    print(df)\n",
    "    \n",
    "df_neighborhood = df['Neighborhood'].unique()\n",
    "db_file = 'normalized.db'\n",
    "\n",
    "create_neighborhood(df_neighborhood,db_file)"
   ]
  },
  {
   "cell_type": "code",
   "execution_count": 10,
   "metadata": {},
   "outputs": [
    {
     "name": "stdout",
     "output_type": "stream",
     "text": [
      "FOREIGN KEY constraint failed\n",
      "table [IncidentType] already exists\n",
      "    IncidentTypeID          IncidentType\n",
      "0                1               Assault\n",
      "1                2   Breaking & Entering\n",
      "2                3              Homicide\n",
      "3                4  Other Sexual Offense\n",
      "4                5               Robbery\n",
      "5                6        Sexual Assault\n",
      "6                7        Sexual Offense\n",
      "7                8                 Theft\n",
      "8                9      Theft of Vehicle\n",
      "9               10               Assault\n",
      "10              11   Breaking & Entering\n",
      "11              12              Homicide\n",
      "12              13  Other Sexual Offense\n",
      "13              14               Robbery\n",
      "14              15        Sexual Assault\n",
      "15              16        Sexual Offense\n",
      "16              17                 Theft\n",
      "17              18      Theft of Vehicle\n",
      "18              19               Assault\n",
      "19              20   Breaking & Entering\n",
      "20              21              Homicide\n",
      "21              22  Other Sexual Offense\n",
      "22              23               Robbery\n",
      "23              24        Sexual Assault\n",
      "24              25        Sexual Offense\n",
      "25              26                 Theft\n",
      "26              27      Theft of Vehicle\n"
     ]
    }
   ],
   "source": [
    "# function to create IncidentType table and insert values\n",
    "def create_parentincidenttype(df_n,db_file):\n",
    "    df_n = sorted(list(df_n))\n",
    "    \n",
    "    create_sql = \"\"\"CREATE TABLE [IncidentType] \n",
    "    ([IncidentTypeID] INTEGER PRIMARY KEY NOT NULL,\n",
    "    [IncidentType] TEXT NOT NULL); \"\"\"\n",
    "    \n",
    "    conn = create_connection(db_file)\n",
    "    create_table(conn,create_sql,\"IncidentType\")\n",
    "    \n",
    "    insert_sql = \"INSERT INTO IncidentType(IncidentType) VALUES(?)\"\n",
    "    \n",
    "    with conn:\n",
    "        values = []\n",
    "        for i in df_n:\n",
    "            values.append((i,))\n",
    "        insert(insert_sql,values,conn)\n",
    "    sql_a = \"Select * from IncidentType;\"  \n",
    "    df = pd.read_sql_query(sql_a,conn) \n",
    "    print(df)\n",
    " \n",
    "df.loc[df['Parent Incident Type'] == 'OTHER SEXUAL OFFENSE', 'Parent Incident Type'] = 'SEXUAL OFFENSE'\n",
    "df_incidenttype = df['Parent Incident Type'].unique()\n",
    "\n",
    "create_parentincidenttype(df_incidenttype,db_file)"
   ]
  },
  {
   "cell_type": "code",
   "execution_count": 11,
   "metadata": {},
   "outputs": [
    {
     "name": "stdout",
     "output_type": "stream",
     "text": [
      "FOREIGN KEY constraint failed\n",
      "table [PoliceDistrict] already exists\n",
      "    PoliceDistrictID PoliceDistrict\n",
      "0                  1     District A\n",
      "1                  2     District B\n",
      "2                  3     District C\n",
      "3                  4     District D\n",
      "4                  5     District E\n",
      "5                  6     District A\n",
      "6                  7     District B\n",
      "7                  8     District C\n",
      "8                  9     District D\n",
      "9                 10     District E\n",
      "10                11     District A\n",
      "11                12     District B\n",
      "12                13     District C\n",
      "13                14     District D\n",
      "14                15     District E\n"
     ]
    }
   ],
   "source": [
    "# Function that Creates table PoliceDistrict and inserts values\n",
    "def create_policedistrict(df_n,db_file):\n",
    "    df_n = sorted(list(df_n))\n",
    "    \n",
    "    create_sql = \"\"\"CREATE TABLE [PoliceDistrict] \n",
    "    ([PoliceDistrictID] INTEGER PRIMARY KEY NOT NULL,\n",
    "    [PoliceDistrict] TEXT NOT NULL); \"\"\"\n",
    "    \n",
    "    conn = create_connection(db_file)\n",
    "    create_table(conn,create_sql,\"PoliceDistrict\")\n",
    "    \n",
    "    insert_sql = \"INSERT INTO PoliceDistrict(PoliceDistrict) VALUES(?)\"\n",
    "    \n",
    "    with conn:\n",
    "        values = []\n",
    "        for i in df_n:\n",
    "            values.append((i,))\n",
    "        insert(insert_sql,values,conn)\n",
    "    sql_a = \"Select * from PoliceDistrict;\"  \n",
    "    df = pd.read_sql_query(sql_a,conn) \n",
    "    print(df)\n",
    " \n",
    "df_n = df['Police District'].unique()\n",
    "\n",
    "create_policedistrict(df_n,db_file)"
   ]
  },
  {
   "cell_type": "code",
   "execution_count": 12,
   "metadata": {},
   "outputs": [
    {
     "name": "stdout",
     "output_type": "stream",
     "text": [
      "FOREIGN KEY constraint failed\n",
      "table [CouncilDistrict] already exists\n",
      "    CouncilDistrictID CouncilDistrict\n",
      "0                   1        DELAWARE\n",
      "1                   2        ELLICOTT\n",
      "2                   3        FILLMORE\n",
      "3                   4         LOVEJOY\n",
      "4                   5          MASTEN\n",
      "5                   6         NIAGARA\n",
      "6                   7           NORTH\n",
      "7                   8           SOUTH\n",
      "8                   9      UNIVERSITY\n",
      "9                  10        DELAWARE\n",
      "10                 11        ELLICOTT\n",
      "11                 12        FILLMORE\n",
      "12                 13         LOVEJOY\n",
      "13                 14          MASTEN\n",
      "14                 15         NIAGARA\n",
      "15                 16           NORTH\n",
      "16                 17           SOUTH\n",
      "17                 18      UNIVERSITY\n",
      "18                 19        DELAWARE\n",
      "19                 20        ELLICOTT\n",
      "20                 21        FILLMORE\n",
      "21                 22         LOVEJOY\n",
      "22                 23          MASTEN\n",
      "23                 24         NIAGARA\n",
      "24                 25           NORTH\n",
      "25                 26           SOUTH\n",
      "26                 27      UNIVERSITY\n",
      "27                 28        DELAWARE\n",
      "28                 29        ELLICOTT\n",
      "29                 30        FILLMORE\n",
      "30                 31         LOVEJOY\n",
      "31                 32          MASTEN\n",
      "32                 33         NIAGARA\n",
      "33                 34           NORTH\n",
      "34                 35           SOUTH\n",
      "35                 36      UNIVERSITY\n"
     ]
    }
   ],
   "source": [
    "# Function that Creates table councilDistrict and inserts values\n",
    "def create_councildistrict(df_n,db_file):\n",
    "    df_n = sorted(list(df_n))\n",
    "    \n",
    "    create_sql = \"\"\"CREATE TABLE [CouncilDistrict] \n",
    "    ([CouncilDistrictID] INTEGER PRIMARY KEY NOT NULL,\n",
    "    [CouncilDistrict] TEXT NOT NULL); \"\"\"\n",
    "    \n",
    "    conn = create_connection(db_file)\n",
    "    create_table(conn,create_sql,\"CouncilDistrict\")\n",
    "    \n",
    "    insert_sql = \"INSERT INTO CouncilDistrict(CouncilDistrict) VALUES(?)\"\n",
    "    \n",
    "    with conn:\n",
    "        values = []\n",
    "        for i in df_n:\n",
    "            values.append((i,))\n",
    "        insert(insert_sql,values,conn)\n",
    "    sql_a = \"Select * from CouncilDistrict;\"  \n",
    "    df = pd.read_sql_query(sql_a,conn) \n",
    "    print(df)\n",
    " \n",
    "df_n = df['Council District'].unique()\n",
    "\n",
    "create_councildistrict(df_n,db_file)"
   ]
  },
  {
   "cell_type": "code",
   "execution_count": 13,
   "metadata": {},
   "outputs": [
    {
     "name": "stdout",
     "output_type": "stream",
     "text": [
      "FOREIGN KEY constraint failed\n",
      "table [Description] already exists\n",
      "    DescriptionID                                        Description\n",
      "0               1                           AGG ASSAULT ON P/OFFICER\n",
      "1               2                                       AGGR ASSAULT\n",
      "2               3                                            ASSAULT\n",
      "3               4                                           BURGLARY\n",
      "4               5  Buffalo Police are investigating this report o...\n",
      "5               6  Buffalo Police are investigating this report o...\n",
      "6               7                            CRIM NEGLIGENT HOMICIDE\n",
      "7               8                                      LARCENY/THEFT\n",
      "8               9                                             MURDER\n",
      "9              10                                               RAPE\n",
      "10             11                                            ROBBERY\n",
      "11             12                                       SEXUAL ABUSE\n",
      "12             13                                  THEFT OF SERVICES\n",
      "13             14                                                UUV\n",
      "14             15                           AGG ASSAULT ON P/OFFICER\n",
      "15             16                                       AGGR ASSAULT\n",
      "16             17                                            ASSAULT\n",
      "17             18                                           BURGLARY\n",
      "18             19  Buffalo Police are investigating this report o...\n",
      "19             20                            CRIM NEGLIGENT HOMICIDE\n",
      "20             21                                      LARCENY/THEFT\n",
      "21             22                                             MURDER\n",
      "22             23                                               RAPE\n",
      "23             24                                            ROBBERY\n",
      "24             25                                       SEXUAL ABUSE\n",
      "25             26                                  THEFT OF SERVICES\n",
      "26             27                                                UUV\n",
      "27             28                                          Undefined\n",
      "28             29                           AGG ASSAULT ON P/OFFICER\n",
      "29             30                                       AGGR ASSAULT\n",
      "30             31                                            ASSAULT\n",
      "31             32                                           BURGLARY\n",
      "32             33  Buffalo Police are investigating this report o...\n",
      "33             34                            CRIM NEGLIGENT HOMICIDE\n",
      "34             35                                      LARCENY/THEFT\n",
      "35             36                                             MURDER\n",
      "36             37                                               RAPE\n",
      "37             38                                            ROBBERY\n",
      "38             39                                       SEXUAL ABUSE\n",
      "39             40                                  THEFT OF SERVICES\n",
      "40             41                                                UUV\n",
      "41             42                                          Undefined\n"
     ]
    }
   ],
   "source": [
    "# Function that Creates table Description and inserts values\n",
    "def create_description(df_n,db_file):\n",
    "    df_n = sorted(list(df_n))\n",
    "    \n",
    "    create_sql = \"\"\"CREATE TABLE [Description] \n",
    "    ([DescriptionID] INTEGER PRIMARY KEY NOT NULL,\n",
    "    [Description] TEXT NOT NULL); \"\"\"\n",
    "    \n",
    "    conn = create_connection(db_file)\n",
    "    create_table(conn,create_sql,\"Description\")\n",
    "    \n",
    "    insert_sql = \"INSERT INTO Description(Description) VALUES(?)\"\n",
    "    \n",
    "    with conn:\n",
    "        values = []\n",
    "        for i in df_n:\n",
    "            values.append((i,))\n",
    "        insert(insert_sql,values,conn)\n",
    "    sql_a = \"Select * from Description;\"  \n",
    "    df = pd.read_sql_query(sql_a,conn) \n",
    "    print(df)\n",
    "\n",
    "    \n",
    "# df.loc[df['Incident Description'] == 'Buffalo Police are investigating this report of a crime.  It is important to note that this is very preliminary information and further investigation as to the facts and circumstances of this report may be necessary.','Incident Description'] = 'Undefined']\n",
    "df.loc[df['Incident Description'] == 'Buffalo Police are investigating this report of a crime.  It is important to note that this is very preliminary information and further investigation as to the facts and circumstances of this report may be necessary', 'Incident Description'] = 'Undefined'\n",
    "\n",
    "df.loc[df['Incident Description'] == 'Buffalo Police are investigating this report of a crime.  It is important to note that this is very preliminary information and further investigation as to the facts and circumstances of this report may be necessary.','Incident Description'] = 'Undefined'\n",
    "\n",
    "df_n = df['Incident Description'].unique()\n",
    "\n",
    "\n",
    "create_description(df_n,db_file)"
   ]
  },
  {
   "cell_type": "code",
   "execution_count": 14,
   "metadata": {},
   "outputs": [],
   "source": [
    "# Function that Creates lookup dictionary for tablename passed\n",
    "def create_dictionary(tablename,db_file):\n",
    "    \n",
    "    ### BEGIN SOLUTION\n",
    "    conn = create_connection(db_file)\n",
    "    sql_z = \"Select * from {};\".format(tablename)\n",
    "    content_list = execute_sql_statement(sql_z,conn)\n",
    "    content_dict = {}\n",
    "    for each_tup in content_list:\n",
    "        content_dict[each_tup[1]] = each_tup[0]                   \n",
    "    return content_dict\n",
    "    ### END SOLUTION"
   ]
  },
  {
   "cell_type": "code",
   "execution_count": 15,
   "metadata": {},
   "outputs": [],
   "source": [
    "# Function that Creates table Crime and inserts values\n",
    "def create_crime(df_n,db_file):\n",
    "    \n",
    "    create_sql = \"\"\"CREATE TABLE [Crime] \n",
    "    ([CrimeID] INTEGER PRIMARY KEY NOT NULL,\n",
    "    [CaseNumber] TEXT NOT NULL,\n",
    "    [IncidentDatetime] DATE,\n",
    "    [IncidentTypeID] INTEGER,\n",
    "    [IncidentDescriptionID] INTEGER,\n",
    "    [HourofDay] INTEGER,\n",
    "    [DayofWeek] TEXT,\n",
    "    [CreatedAt] DATE,\n",
    "    [Neighborhood] INTEGER,\n",
    "    [PoliceDistrictID] INTEGER,\n",
    "    [CouncilDistrictID] INTEGER,\n",
    "    FOREIGN KEY(IncidentTypeID) REFERENCES IncidentType(IncidentTypeID),\n",
    "    FOREIGN KEY(IncidentDescriptionID) REFERENCES Description(DescriptionID),\n",
    "    FOREIGN KEY(Neighborhood) REFERENCES Neighborhood(NeighborhoodID),\n",
    "    FOREIGN KEY(PoliceDistrictID) REFERENCES PoliceDistrict(PoliceDistrictID)\n",
    "    FOREIGN KEY(CouncilDistrictID) REFERENCES CouncilDistrict(CouncilDistrictID)); \"\"\"\n",
    "    \n",
    "    conn = create_connection(db_file)\n",
    "    create_table(conn,create_sql,\"Crime\")\n",
    "    \n",
    "    insert_sql = \"INSERT INTO Crime(CaseNumber,IncidentDatetime,IncidentTypeID,IncidentDescriptionID,HourofDay,DayofWeek,\\\n",
    "    CreatedAt,Neighborhood,PoliceDistrictID,CouncilDistrictID) VALUES(?,?,?,?,?,?,?,?,?,?)\"\n",
    "    \n",
    "    neighborhood_lookup = create_dictionary('Neighborhood',db_file)\n",
    "    incidenttype_lookup = create_dictionary('IncidentType',db_file)\n",
    "    decription_lookup = create_dictionary('Description',db_file)\n",
    "    police_lookup = create_dictionary('PoliceDistrict',db_file)\n",
    "    council_lookup = create_dictionary('CouncilDistrict',db_file)\n",
    "    \n",
    "    with conn:\n",
    "        values = []\n",
    "        for index,row in df_n.iterrows():\n",
    "            try:\n",
    "                values.append((row['Case Number'],row['Incident Datetime'],incidenttype_lookup[row['Parent Incident Type']],\\\n",
    "                               decription_lookup[row['Incident Description']],row['Hour of Day'],row['Day of Week'],\\\n",
    "                              row['Created At'],neighborhood_lookup[row['Neighborhood']],police_lookup[row['Police District']],\\\n",
    "                              council_lookup[row['Council District']]))\n",
    "            except:\n",
    "                continue\n",
    "        insert(insert_sql,values,conn)\n",
    "    sql_a = \"Select * from Crime limit 10;\"  \n",
    "    df = pd.read_sql_query(sql_a,conn) \n",
    "\n",
    "    \n",
    "cols = ['Case Number','Incident Datetime','Parent Incident Type','Incident Description','Hour of Day','Day of Week',\\\n",
    "        'Created At','Neighborhood','Police District','Council District']\n",
    "df_n = df[cols]\n",
    "create_crime(df_n,db_file)\n"
   ]
  },
  {
   "cell_type": "markdown",
   "metadata": {},
   "source": [
    "# Fetching data from tables"
   ]
  },
  {
   "cell_type": "code",
   "execution_count": 16,
   "metadata": {},
   "outputs": [],
   "source": [
    "# Create connection with normalized db\n",
    "conn = sqlite3.connect('normalized.db')"
   ]
  },
  {
   "cell_type": "code",
   "execution_count": 17,
   "metadata": {},
   "outputs": [
    {
     "name": "stdout",
     "output_type": "stream",
     "text": [
      "\n",
      "\n",
      "================   Crime count by month   ================== \n",
      "\n",
      "        Month  CrimeCount\n",
      "0        July       29474\n",
      "1      August       29322\n",
      "2   September       26577\n",
      "3     October       26159\n",
      "4        June       25212\n",
      "5         May       23879\n",
      "6    November       23275\n",
      "7    December       21972\n",
      "8     January       20750\n",
      "9       April       20456\n",
      "10      March       18785\n",
      "11   February       16455\n"
     ]
    }
   ],
   "source": [
    "# Function to get the count of crimes in each month\n",
    "def crime_count_by_month():\n",
    "    sql_statement = \"\"\"\n",
    "    SELECT * FROM (\n",
    "        SELECT\n",
    "        Month,\n",
    "        COUNT(Month) AS CrimeCount\n",
    "        FROM (\n",
    "            SELECT\n",
    "            CrimeID, IncidentDatetime,\n",
    "            CASE\n",
    "                WHEN SUBSTR(IncidentDatetime, 1, 2) = '01' THEN 'January'\n",
    "                WHEN SUBSTR(IncidentDatetime, 1, 2) = '02' THEN 'February'\n",
    "                WHEN SUBSTR(IncidentDatetime, 1, 2) = '03' THEN 'March'\n",
    "                WHEN SUBSTR(IncidentDatetime, 1, 2) = '04' THEN 'April'\n",
    "                WHEN SUBSTR(IncidentDatetime, 1, 2) = '05' THEN 'May'\n",
    "                WHEN SUBSTR(IncidentDatetime, 1, 2) = '06' THEN 'June'\n",
    "                WHEN SUBSTR(IncidentDatetime, 1, 2) = '07' THEN 'July'\n",
    "                WHEN SUBSTR(IncidentDatetime, 1, 2) = '08' THEN 'August'\n",
    "                WHEN SUBSTR(IncidentDatetime, 1, 2) = '09' THEN 'September'\n",
    "                WHEN SUBSTR(IncidentDatetime, 1, 2) = '10' THEN 'October'\n",
    "                WHEN SUBSTR(IncidentDatetime, 1, 2) = '11' THEN 'November'\n",
    "                WHEN SUBSTR(IncidentDatetime, 1, 2) = '12' THEN 'December'\n",
    "            END AS Month\n",
    "            FROM Crime\n",
    "        )\n",
    "        GROUP BY Month\n",
    "    )\n",
    "    ORDER BY CrimeCount DESC\n",
    "    \"\"\"\n",
    "\n",
    "    df_count_by_month = pd.read_sql_query(sql_statement, conn)\n",
    "    return df_count_by_month\n",
    "\n",
    "print(f\"\\n\\n================   Crime count by month   ================== \\n\\n{crime_count_by_month()}\")\n"
   ]
  },
  {
   "cell_type": "code",
   "execution_count": 18,
   "metadata": {},
   "outputs": [
    {
     "name": "stdout",
     "output_type": "stream",
     "text": [
      "\n",
      "\n",
      "=====================   Crime count by hour   =================== \n",
      "\n",
      "    HourofDay  CrimeCount\n",
      "0           0       32759\n",
      "1          12       16300\n",
      "2          16       13887\n",
      "3          17       13873\n",
      "4          20       13363\n",
      "5          18       13251\n",
      "6          21       13216\n",
      "7          22       13175\n",
      "8          15       12867\n",
      "9          23       12833\n",
      "10         19       11972\n",
      "11         14       11850\n",
      "12         11       11730\n",
      "13         13       11501\n",
      "14         10       11068\n",
      "15          9       10669\n",
      "16          1        9816\n",
      "17          8        9726\n",
      "18          2        8717\n",
      "19          3        7567\n",
      "20          7        6469\n",
      "21          4        6014\n",
      "22          6        5043\n",
      "23          5        4650\n"
     ]
    }
   ],
   "source": [
    "# Function to get the count of crimes at each hour\n",
    "def crime_count_by_hour():\n",
    "    sql_statement = \"\"\"\n",
    "    SELECT * FROM (\n",
    "        SELECT\n",
    "        HourofDay,\n",
    "        COUNT(HourofDay) AS CrimeCount\n",
    "        FROM Crime\n",
    "        GROUP BY HourofDay\n",
    "    )\n",
    "    ORDER BY CrimeCount DESC\n",
    "    \"\"\"\n",
    "\n",
    "    crime_count_by_hour = pd.read_sql_query(sql_statement, conn)\n",
    "    return crime_count_by_hour\n",
    "\n",
    "print(f\"\\n\\n=====================   Crime count by hour   =================== \\n\\n{crime_count_by_hour()}\")\n"
   ]
  },
  {
   "cell_type": "code",
   "execution_count": 19,
   "metadata": {},
   "outputs": [
    {
     "name": "stdout",
     "output_type": "stream",
     "text": [
      "\n",
      "\n",
      "===================   Crime count by day   ======================= \n",
      "\n",
      "   DayofWeek  CrimeCount\n",
      "0     Friday       42333\n",
      "1   Saturday       41707\n",
      "2     Monday       40155\n",
      "3  Wednesday       39841\n",
      "4    Tuesday       39568\n",
      "5   Thursday       39396\n",
      "6     Sunday       39316\n"
     ]
    }
   ],
   "source": [
    "# Function to get the count of crimes on days of the week\n",
    "def crime_count_by_day():\n",
    "    sql_statement = \"\"\"\n",
    "    SELECT * FROM (\n",
    "        SELECT\n",
    "        DayofWeek,\n",
    "        COUNT(DayofWeek) AS CrimeCount\n",
    "        FROM Crime\n",
    "        GROUP BY DayofWeek\n",
    "    )\n",
    "    ORDER BY CrimeCount DESC\n",
    "    \"\"\"\n",
    "\n",
    "    crime_count_by_day = pd.read_sql_query(sql_statement, conn)\n",
    "    return crime_count_by_day\n",
    "\n",
    "print(f\"\\n\\n===================   Crime count by day   ======================= \\n\\n{crime_count_by_day()}\")\n"
   ]
  },
  {
   "cell_type": "code",
   "execution_count": 20,
   "metadata": {},
   "outputs": [
    {
     "name": "stdout",
     "output_type": "stream",
     "text": [
      "\n",
      "\n",
      "==================   Crime count by neighborhood   ===================== \n",
      "\n",
      "    NeighborhoodID    NeighborhoodName  CrimeCount\n",
      "0               73   Broadway Fillmore       16489\n",
      "1               74             Central       15222\n",
      "2               89   Kensington-Bailey       14802\n",
      "3               94          North Park       13824\n",
      "4               83     Genesee-Moselle       12991\n",
      "5               98       Schiller Park       12043\n",
      "6               78     Elmwood Bidwell       11984\n",
      "7               79      Elmwood Bryant       11567\n",
      "8              103     Upper West Side       10883\n",
      "9              102  University Heights       10738\n",
      "10             105           West Side       10252\n",
      "11              88            Kenfield       10135\n",
      "12              97           Riverside        9364\n",
      "13              90             Lovejoy        9024\n",
      "14              93         Masten Park        8937\n",
      "15              91     Lower West Side        7920\n",
      "16              86       Hopkins-Tifft        7360\n",
      "17              76      Delavan Grider        7308\n",
      "18              80      Fillmore-Leroy        6781\n",
      "19              71           Allentown        6686\n",
      "20             100    Seneca-Cazenovia        6448\n",
      "21             101          South Park        6065\n",
      "22              92            MLK Park        5957\n",
      "23              95            Parkside        5447\n",
      "24              82          Fruit Belt        5377\n",
      "25             104         West Hertel        5326\n",
      "26              72          Black Rock        4656\n",
      "27              85         Hamlin Park        4553\n",
      "28              96       Pratt-Willert        4343\n",
      "29              84       Grant-Amherst        4185\n",
      "30              77            Ellicott        3842\n",
      "31              87          Kaisertown        3532\n",
      "32              75        Central Park        3343\n",
      "33              99      Seneca Babcock        3038\n",
      "34              81          First Ward        1894\n"
     ]
    }
   ],
   "source": [
    "# Function to get the count of crimes in different neighborhoods\n",
    "def crime_count_by_neighborhood():\n",
    "    sql_statement = \"\"\"\n",
    "    SELECT NeighborhoodID, NeighborhoodName, CrimeCount FROM (\n",
    "        SELECT\n",
    "        Neighborhood,\n",
    "        COUNT(Neighborhood) AS CrimeCount\n",
    "        FROM Crime\n",
    "        GROUP BY Neighborhood\n",
    "    ) Crime\n",
    "    INNER JOIN Neighborhood ON Crime.Neighborhood = Neighborhood.NeighborhoodID \n",
    "    ORDER BY CrimeCount DESC\n",
    "    \"\"\"\n",
    "\n",
    "    crime_count_by_neighborhood = pd.read_sql_query(sql_statement, conn)\n",
    "    return crime_count_by_neighborhood\n",
    "\n",
    "print(f\"\\n\\n==================   Crime count by neighborhood   ===================== \\n\\n{crime_count_by_neighborhood()}\")\n"
   ]
  },
  {
   "cell_type": "code",
   "execution_count": 21,
   "metadata": {},
   "outputs": [
    {
     "name": "stdout",
     "output_type": "stream",
     "text": [
      "\n",
      "\n",
      "====================   Crime count by Polics District   ===================== \n",
      "\n",
      "  PoliceDistrict  CrimeCount\n",
      "0     District D       66368\n",
      "1     District E       66020\n",
      "2     District B       64738\n",
      "3     District C       52106\n",
      "4     District A       33084\n"
     ]
    }
   ],
   "source": [
    "# Function to get the count of crimes in each police district\n",
    "def crime_count_by_police_district():\n",
    "    sql_statement = \"\"\"\n",
    "    SELECT  PoliceDistrict, CrimeCount  FROM (\n",
    "        SELECT\n",
    "        PoliceDistrictID,\n",
    "        COUNT(PoliceDistrictID) AS CrimeCount\n",
    "        FROM Crime\n",
    "        GROUP BY PoliceDistrictID\n",
    "    ) Crime\n",
    "    INNER JOIN PoliceDistrict ON Crime.PoliceDistrictID = PoliceDistrict.PoliceDistrictID \n",
    "    ORDER BY CrimeCount DESC\n",
    "    \"\"\"\n",
    "\n",
    "    crime_count_by_police_district = pd.read_sql_query(sql_statement, conn)\n",
    "    return crime_count_by_police_district\n",
    "\n",
    "print(f\"\\n\\n====================   Crime count by Polics District   ===================== \\n\\n{crime_count_by_police_district()}\")\n"
   ]
  },
  {
   "cell_type": "code",
   "execution_count": 22,
   "metadata": {},
   "outputs": [
    {
     "name": "stdout",
     "output_type": "stream",
     "text": [
      "\n",
      "\n",
      "===================   Crime count by Incident Type   ========================= \n",
      "\n",
      "   IncidentTypeID  CrimeCount  IncidentTypeID          IncidentType\n",
      "0              26      123308              26                 Theft\n",
      "1              19       57735              19               Assault\n",
      "2              20       53305              20   Breaking & Entering\n",
      "3              27       23595              27      Theft of Vehicle\n",
      "4              23       18188              23               Robbery\n",
      "5              24        2470              24        Sexual Assault\n",
      "6              22        2221              22  Other Sexual Offense\n",
      "7              21         981              21              Homicide\n",
      "8              25         513              25        Sexual Offense\n"
     ]
    }
   ],
   "source": [
    "def crime_count_by_incident_type():\n",
    "    sql_statement = \"\"\"\n",
    "    SELECT * FROM (\n",
    "        SELECT\n",
    "        IncidentTypeID,\n",
    "        COUNT(IncidentTypeID) AS CrimeCount\n",
    "        FROM Crime\n",
    "        GROUP BY IncidentTypeID\n",
    "    ) Crime\n",
    "    INNER JOIN IncidentType ON Crime.IncidentTypeID = IncidentType.IncidentTypeID \n",
    "    ORDER BY CrimeCount DESC\n",
    "    \"\"\"\n",
    "\n",
    "    df = pd.read_sql_query(sql_statement, conn)\n",
    "    return df\n",
    "print(f\"\\n\\n===================   Crime count by Incident Type   ========================= \\n\\n{crime_count_by_incident_type()}\")"
   ]
  },
  {
   "cell_type": "markdown",
   "metadata": {},
   "source": [
    "# Visualization"
   ]
  },
  {
   "cell_type": "code",
   "execution_count": 23,
   "metadata": {},
   "outputs": [
    {
     "data": {
      "image/png": "[encoded data removed]",
      "text/plain": [
       "<Figure size 432x288 with 1 Axes>"
      ]
     },
     "metadata": {},
     "output_type": "display_data"
    }
   ],
   "source": [
    "# incident type pie chart\n",
    "incident_type_crime_count_df = crime_count_by_incident_type()\n",
    "\n",
    "labels = incident_type_crime_count_df.loc[:, \"IncidentType\"]\n",
    "counts = incident_type_crime_count_df.loc[:, \"CrimeCount\"]\n",
    "    \n",
    "colors = ['yellowgreen', 'red', 'gold', 'lightskyblue', \n",
    "        'lightcoral','blue','pink', 'darkgreen', \n",
    "        'yellow','grey','violet','magenta','cyan']\n",
    "\n",
    "porcent = 100.*counts/counts.sum()\n",
    "\n",
    "patches, texts = plt.pie(counts, colors = colors, startangle = 90, radius = 1.2)\n",
    "labels = ['{0} - {1:1.2f} %'.format(i,j) for i,j in zip(labels, porcent)]\n",
    "\n",
    "sort_legend = True\n",
    "if sort_legend:\n",
    "    patches, labels, dummy = zip(*sorted(zip(patches, labels, counts), key = lambda labels: labels[2], reverse=  True))\n",
    "\n",
    "plt.legend(patches, labels, loc = 'best', bbox_to_anchor = (-0.1, 1.), fontsize = 8)\n",
    "plt.show()"
   ]
  },
  {
   "cell_type": "code",
   "execution_count": 25,
   "metadata": {
    "scrolled": true
   },
   "outputs": [
    {
     "data": {
      "image/png": "[encoded data removed]",
      "text/plain": [
       "<Figure size 432x288 with 1 Axes>"
      ]
     },
     "metadata": {
      "needs_background": "light"
     },
     "output_type": "display_data"
    }
   ],
   "source": [
    "# Hourly Crime Count Plot\n",
    "c = ['yellowgreen', 'red', 'gold', 'lightskyblue',\\\n",
    "     'lightcoral','blue','pink', 'darkgreen', \\\n",
    "          'yellow','grey','violet','magenta','cyan']\n",
    "hourly_crime_count_df = crime_count_by_hour()\n",
    "plt.bar(hourly_crime_count_df.loc[:, \"HourofDay\"], hourly_crime_count_df.loc[:, \"CrimeCount\"], color = c)\n",
    "plt.title('Crime count by hour of the week')\n",
    "plt.xlabel('Hour')\n",
    "plt.ylabel('Crime Count')\n",
    "plt.show()"
   ]
  },
  {
   "cell_type": "code",
   "execution_count": 26,
   "metadata": {},
   "outputs": [
    {
     "data": {
      "image/png": "[encoded data removed]",
      "text/plain": [
       "<Figure size 432x288 with 1 Axes>"
      ]
     },
     "metadata": {
      "needs_background": "light"
     },
     "output_type": "display_data"
    }
   ],
   "source": [
    "# Daily Crime Count Plot\n",
    "daily_crime_count_df = crime_count_by_day()\n",
    "plt.bar(daily_crime_count_df.loc[:, \"DayofWeek\"], daily_crime_count_df.loc[:, \"CrimeCount\"], color = c)\n",
    "plt.title('Crime count by day of the week')\n",
    "plt.xlabel('Day')\n",
    "plt.xticks(rotation=90,fontsize = 10)\n",
    "plt.ylabel('Crime Count')\n",
    "plt.rc('xtick', labelsize = 5)\n",
    "plt.show()"
   ]
  },
  {
   "cell_type": "code",
   "execution_count": 27,
   "metadata": {},
   "outputs": [
    {
     "data": {
      "image/png": "[encoded data removed]",
      "text/plain": [
       "<Figure size 432x288 with 1 Axes>"
      ]
     },
     "metadata": {
      "needs_background": "light"
     },
     "output_type": "display_data"
    }
   ],
   "source": [
    "# Monthly Crime Count Plot\n",
    "monthly_crime_count_df = crime_count_by_month()\n",
    "plt.bar(monthly_crime_count_df.loc[:, \"Month\"], monthly_crime_count_df.loc[:, \"CrimeCount\"], color = c)\n",
    "plt.title('Crime count by month')\n",
    "plt.xlabel('Month')\n",
    "plt.xticks(rotation=90,fontsize = 10)\n",
    "plt.ylabel('Crime Count')\n",
    "plt.show()\n"
   ]
  },
  {
   "cell_type": "code",
   "execution_count": 28,
   "metadata": {},
   "outputs": [
    {
     "data": {
      "image/png": "[encoded data removed]",
      "text/plain": [
       "<Figure size 432x288 with 1 Axes>"
      ]
     },
     "metadata": {
      "needs_background": "light"
     },
     "output_type": "display_data"
    }
   ],
   "source": [
    "# Neighbourhood - Crime Count Plot\n",
    "neighborhood_crime_count_df = crime_count_by_neighborhood()\n",
    "plt.bar(neighborhood_crime_count_df.loc[:, \"NeighborhoodName\"], \\\n",
    "        neighborhood_crime_count_df.loc[:, \"CrimeCount\"], color = c)\n",
    "plt.title('Crime count by Neighborhood')\n",
    "plt.xlabel('Neighborhood')\n",
    "plt.xticks(rotation=90,fontsize = 8)\n",
    "plt.ylabel('Crime Count')\n",
    "plt.show()"
   ]
  },
  {
   "cell_type": "code",
   "execution_count": 29,
   "metadata": {},
   "outputs": [
    {
     "data": {
      "image/png": "[encoded data removed]",
      "text/plain": [
       "<Figure size 432x288 with 1 Axes>"
      ]
     },
     "metadata": {
      "needs_background": "light"
     },
     "output_type": "display_data"
    }
   ],
   "source": [
    "# Police District - Crime Count Plot\n",
    "police_district_crime_count_df = crime_count_by_police_district()\n",
    "plt.bar(police_district_crime_count_df.loc[:, \"PoliceDistrict\"],\\\n",
    "        police_district_crime_count_df.loc[:, \"CrimeCount\"], color = c)\n",
    "plt.title('Crime count by Police District')\n",
    "plt.xlabel('PoliceDistrict')\n",
    "plt.ylabel('Crime Count')\n",
    "plt.show()"
   ]
  },
  {
   "cell_type": "markdown",
   "metadata": {},
   "source": [
    "# Conclusion\n",
    "\n",
    "* The predominant crime type is Theft, followed by Assualt.\n",
    "* The crime rates peaks right at midnight.\n",
    "* Friday has the highest crime count in a week.\n",
    "* End of Summer to the start of Fall has the highest crime count in a year.\n",
    "* Broadway Fillmore, Central Terminal are the most crime prone neighborhoods.\n",
    "* Seneca Babcock and First Ward are the safest areas statistilly in Buffalo.\n",
    "* Police District D has the highest number of incidents reported.\n"
   ]
  },
  {
   "cell_type": "code",
   "execution_count": null,
   "metadata": {},
   "outputs": [],
   "source": []
  }
 ],
 "metadata": {
  "kernelspec": {
   "display_name": "Python 3",
   "language": "python",
   "name": "python3"
  },
  "language_info": {
   "codemirror_mode": {
    "name": "ipython",
    "version": 3
   },
   "file_extension": ".py",
   "mimetype": "text/x-python",
   "name": "python",
   "nbconvert_exporter": "python",
   "pygments_lexer": "ipython3",
   "version": "3.8.5"
  }
 },
 "nbformat": 4,
 "nbformat_minor": 4
}
